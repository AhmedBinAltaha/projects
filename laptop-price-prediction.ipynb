{
 "cells": [
  {
   "cell_type": "code",
   "execution_count": 1,
   "id": "73bc39f0",
   "metadata": {
    "_cell_guid": "b1076dfc-b9ad-4769-8c92-a6c4dae69d19",
    "_uuid": "8f2839f25d086af736a60e9eeb907d3b93b6e0e5",
    "execution": {
     "iopub.execute_input": "2023-07-19T16:03:30.506022Z",
     "iopub.status.busy": "2023-07-19T16:03:30.505475Z",
     "iopub.status.idle": "2023-07-19T16:03:30.534411Z",
     "shell.execute_reply": "2023-07-19T16:03:30.532346Z"
    },
    "papermill": {
     "duration": 0.0489,
     "end_time": "2023-07-19T16:03:30.537112",
     "exception": false,
     "start_time": "2023-07-19T16:03:30.488212",
     "status": "completed"
    },
    "tags": []
   },
   "outputs": [
    {
     "name": "stdout",
     "output_type": "stream",
     "text": [
      "/kaggle/input/laptop-price/laptop_price.csv\n"
     ]
    }
   ],
   "source": [
    "# This Python 3 environment comes with many helpful analytics libraries installed\n",
    "# It is defined by the kaggle/python Docker image: https://github.com/kaggle/docker-python\n",
    "# For example, here's several helpful packages to load\n",
    "\n",
    "import numpy as np # linear algebra\n",
    "import pandas as pd # data processing, CSV file I/O (e.g. pd.read_csv)\n",
    "\n",
    "# Input data files are available in the read-only \"../input/\" directory\n",
    "# For example, running this (by clicking run or pressing Shift+Enter) will list all files under the input directory\n",
    "\n",
    "import os\n",
    "for dirname, _, filenames in os.walk('/kaggle/input'):\n",
    "    for filename in filenames:\n",
    "        print(os.path.join(dirname, filename))\n",
    "\n",
    "# You can write up to 20GB to the current directory (/kaggle/working/) that gets preserved as output when you create a version using \"Save & Run All\" \n",
    "# You can also write temporary files to /kaggle/temp/, but they won't be saved outside of the current session"
   ]
  },
  {
   "cell_type": "markdown",
   "id": "07356bf8",
   "metadata": {
    "papermill": {
     "duration": 0.014755,
     "end_time": "2023-07-19T16:03:30.567058",
     "exception": false,
     "start_time": "2023-07-19T16:03:30.552303",
     "status": "completed"
    },
    "tags": []
   },
   "source": [
    "# load libraries"
   ]
  },
  {
   "cell_type": "code",
   "execution_count": 2,
   "id": "93335ab6",
   "metadata": {
    "execution": {
     "iopub.execute_input": "2023-07-19T16:03:30.599902Z",
     "iopub.status.busy": "2023-07-19T16:03:30.598487Z",
     "iopub.status.idle": "2023-07-19T16:03:33.042061Z",
     "shell.execute_reply": "2023-07-19T16:03:33.040605Z"
    },
    "papermill": {
     "duration": 2.463022,
     "end_time": "2023-07-19T16:03:33.045092",
     "exception": false,
     "start_time": "2023-07-19T16:03:30.582070",
     "status": "completed"
    },
    "tags": []
   },
   "outputs": [],
   "source": [
    "import pandas as pd\n",
    "import numpy as np\n",
    "import matplotlib.pyplot as plt\n",
    "import seaborn as sns\n",
    "from sklearn.model_selection import train_test_split\n",
    "from sklearn.compose import ColumnTransformer\n",
    "from sklearn.pipeline import Pipeline\n",
    "from sklearn.preprocessing import OneHotEncoder\n",
    "from sklearn.metrics import r2_score,mean_absolute_error\n",
    "from sklearn.ensemble import RandomForestRegressor\n",
    "\n"
   ]
  },
  {
   "cell_type": "markdown",
   "id": "7e19ab15",
   "metadata": {
    "papermill": {
     "duration": 0.015329,
     "end_time": "2023-07-19T16:03:33.076311",
     "exception": false,
     "start_time": "2023-07-19T16:03:33.060982",
     "status": "completed"
    },
    "tags": []
   },
   "source": [
    "# load dataset"
   ]
  },
  {
   "cell_type": "code",
   "execution_count": 3,
   "id": "4463bd64",
   "metadata": {
    "execution": {
     "iopub.execute_input": "2023-07-19T16:03:33.109662Z",
     "iopub.status.busy": "2023-07-19T16:03:33.108987Z",
     "iopub.status.idle": "2023-07-19T16:03:33.147407Z",
     "shell.execute_reply": "2023-07-19T16:03:33.146300Z"
    },
    "papermill": {
     "duration": 0.058394,
     "end_time": "2023-07-19T16:03:33.150440",
     "exception": false,
     "start_time": "2023-07-19T16:03:33.092046",
     "status": "completed"
    },
    "tags": []
   },
   "outputs": [],
   "source": [
    "data=pd.read_csv(\"/kaggle/input/laptop-price/laptop_price.csv\", encoding=\"latin-1\")"
   ]
  },
  {
   "cell_type": "code",
   "execution_count": 4,
   "id": "c84bcc62",
   "metadata": {
    "execution": {
     "iopub.execute_input": "2023-07-19T16:03:33.183806Z",
     "iopub.status.busy": "2023-07-19T16:03:33.183025Z",
     "iopub.status.idle": "2023-07-19T16:03:33.230447Z",
     "shell.execute_reply": "2023-07-19T16:03:33.229077Z"
    },
    "papermill": {
     "duration": 0.067179,
     "end_time": "2023-07-19T16:03:33.232798",
     "exception": false,
     "start_time": "2023-07-19T16:03:33.165619",
     "status": "completed"
    },
    "tags": []
   },
   "outputs": [
    {
     "data": {
      "text/html": [
       "<div>\n",
       "<style scoped>\n",
       "    .dataframe tbody tr th:only-of-type {\n",
       "        vertical-align: middle;\n",
       "    }\n",
       "\n",
       "    .dataframe tbody tr th {\n",
       "        vertical-align: top;\n",
       "    }\n",
       "\n",
       "    .dataframe thead th {\n",
       "        text-align: right;\n",
       "    }\n",
       "</style>\n",
       "<table border=\"1\" class=\"dataframe\">\n",
       "  <thead>\n",
       "    <tr style=\"text-align: right;\">\n",
       "      <th></th>\n",
       "      <th>laptop_ID</th>\n",
       "      <th>Company</th>\n",
       "      <th>Product</th>\n",
       "      <th>TypeName</th>\n",
       "      <th>Inches</th>\n",
       "      <th>ScreenResolution</th>\n",
       "      <th>Cpu</th>\n",
       "      <th>Ram</th>\n",
       "      <th>Memory</th>\n",
       "      <th>Gpu</th>\n",
       "      <th>OpSys</th>\n",
       "      <th>Weight</th>\n",
       "      <th>Price_euros</th>\n",
       "    </tr>\n",
       "  </thead>\n",
       "  <tbody>\n",
       "    <tr>\n",
       "      <th>0</th>\n",
       "      <td>1</td>\n",
       "      <td>Apple</td>\n",
       "      <td>MacBook Pro</td>\n",
       "      <td>Ultrabook</td>\n",
       "      <td>13.3</td>\n",
       "      <td>IPS Panel Retina Display 2560x1600</td>\n",
       "      <td>Intel Core i5 2.3GHz</td>\n",
       "      <td>8GB</td>\n",
       "      <td>128GB SSD</td>\n",
       "      <td>Intel Iris Plus Graphics 640</td>\n",
       "      <td>macOS</td>\n",
       "      <td>1.37kg</td>\n",
       "      <td>1339.69</td>\n",
       "    </tr>\n",
       "    <tr>\n",
       "      <th>1</th>\n",
       "      <td>2</td>\n",
       "      <td>Apple</td>\n",
       "      <td>Macbook Air</td>\n",
       "      <td>Ultrabook</td>\n",
       "      <td>13.3</td>\n",
       "      <td>1440x900</td>\n",
       "      <td>Intel Core i5 1.8GHz</td>\n",
       "      <td>8GB</td>\n",
       "      <td>128GB Flash Storage</td>\n",
       "      <td>Intel HD Graphics 6000</td>\n",
       "      <td>macOS</td>\n",
       "      <td>1.34kg</td>\n",
       "      <td>898.94</td>\n",
       "    </tr>\n",
       "    <tr>\n",
       "      <th>2</th>\n",
       "      <td>3</td>\n",
       "      <td>HP</td>\n",
       "      <td>250 G6</td>\n",
       "      <td>Notebook</td>\n",
       "      <td>15.6</td>\n",
       "      <td>Full HD 1920x1080</td>\n",
       "      <td>Intel Core i5 7200U 2.5GHz</td>\n",
       "      <td>8GB</td>\n",
       "      <td>256GB SSD</td>\n",
       "      <td>Intel HD Graphics 620</td>\n",
       "      <td>No OS</td>\n",
       "      <td>1.86kg</td>\n",
       "      <td>575.00</td>\n",
       "    </tr>\n",
       "    <tr>\n",
       "      <th>3</th>\n",
       "      <td>4</td>\n",
       "      <td>Apple</td>\n",
       "      <td>MacBook Pro</td>\n",
       "      <td>Ultrabook</td>\n",
       "      <td>15.4</td>\n",
       "      <td>IPS Panel Retina Display 2880x1800</td>\n",
       "      <td>Intel Core i7 2.7GHz</td>\n",
       "      <td>16GB</td>\n",
       "      <td>512GB SSD</td>\n",
       "      <td>AMD Radeon Pro 455</td>\n",
       "      <td>macOS</td>\n",
       "      <td>1.83kg</td>\n",
       "      <td>2537.45</td>\n",
       "    </tr>\n",
       "    <tr>\n",
       "      <th>4</th>\n",
       "      <td>5</td>\n",
       "      <td>Apple</td>\n",
       "      <td>MacBook Pro</td>\n",
       "      <td>Ultrabook</td>\n",
       "      <td>13.3</td>\n",
       "      <td>IPS Panel Retina Display 2560x1600</td>\n",
       "      <td>Intel Core i5 3.1GHz</td>\n",
       "      <td>8GB</td>\n",
       "      <td>256GB SSD</td>\n",
       "      <td>Intel Iris Plus Graphics 650</td>\n",
       "      <td>macOS</td>\n",
       "      <td>1.37kg</td>\n",
       "      <td>1803.60</td>\n",
       "    </tr>\n",
       "    <tr>\n",
       "      <th>...</th>\n",
       "      <td>...</td>\n",
       "      <td>...</td>\n",
       "      <td>...</td>\n",
       "      <td>...</td>\n",
       "      <td>...</td>\n",
       "      <td>...</td>\n",
       "      <td>...</td>\n",
       "      <td>...</td>\n",
       "      <td>...</td>\n",
       "      <td>...</td>\n",
       "      <td>...</td>\n",
       "      <td>...</td>\n",
       "      <td>...</td>\n",
       "    </tr>\n",
       "    <tr>\n",
       "      <th>145</th>\n",
       "      <td>148</td>\n",
       "      <td>Asus</td>\n",
       "      <td>ZenBook UX430UA</td>\n",
       "      <td>Ultrabook</td>\n",
       "      <td>14.0</td>\n",
       "      <td>Full HD 1920x1080</td>\n",
       "      <td>Intel Core i7 8550U 1.8GHz</td>\n",
       "      <td>8GB</td>\n",
       "      <td>256GB SSD</td>\n",
       "      <td>Intel UHD Graphics 620</td>\n",
       "      <td>Windows 10</td>\n",
       "      <td>1.25kg</td>\n",
       "      <td>1099.00</td>\n",
       "    </tr>\n",
       "    <tr>\n",
       "      <th>146</th>\n",
       "      <td>149</td>\n",
       "      <td>HP</td>\n",
       "      <td>EliteBook Folio</td>\n",
       "      <td>Ultrabook</td>\n",
       "      <td>12.5</td>\n",
       "      <td>IPS Panel 4K Ultra HD / Touchscreen 3840x2160</td>\n",
       "      <td>Intel Core M 6Y75 1.2GHz</td>\n",
       "      <td>8GB</td>\n",
       "      <td>512GB SSD</td>\n",
       "      <td>Intel HD Graphics 515</td>\n",
       "      <td>Windows 10</td>\n",
       "      <td>0.97kg</td>\n",
       "      <td>2014.00</td>\n",
       "    </tr>\n",
       "    <tr>\n",
       "      <th>147</th>\n",
       "      <td>150</td>\n",
       "      <td>Asus</td>\n",
       "      <td>X541NA (N3350/4GB/1TB/FHD/W10)</td>\n",
       "      <td>Notebook</td>\n",
       "      <td>15.6</td>\n",
       "      <td>Full HD 1920x1080</td>\n",
       "      <td>Intel Celeron Dual Core N3350 1.1GHz</td>\n",
       "      <td>4GB</td>\n",
       "      <td>1TB HDD</td>\n",
       "      <td>Intel HD Graphics 500</td>\n",
       "      <td>Windows 10</td>\n",
       "      <td>2kg</td>\n",
       "      <td>344.00</td>\n",
       "    </tr>\n",
       "    <tr>\n",
       "      <th>148</th>\n",
       "      <td>151</td>\n",
       "      <td>MSI</td>\n",
       "      <td>GE72MVR 7RG</td>\n",
       "      <td>Gaming</td>\n",
       "      <td>17.3</td>\n",
       "      <td>Full HD 1920x1080</td>\n",
       "      <td>Intel Core i7 7700HQ 2.8GHz</td>\n",
       "      <td>16GB</td>\n",
       "      <td>256GB SSD +  1TB HDD</td>\n",
       "      <td>Nvidia GeForce GTX 1070</td>\n",
       "      <td>Windows 10</td>\n",
       "      <td>2.9kg</td>\n",
       "      <td>2029.00</td>\n",
       "    </tr>\n",
       "    <tr>\n",
       "      <th>149</th>\n",
       "      <td>152</td>\n",
       "      <td>Acer</td>\n",
       "      <td>Aspire A315-51</td>\n",
       "      <td>Notebook</td>\n",
       "      <td>15.6</td>\n",
       "      <td>1366x768</td>\n",
       "      <td>Intel Core i3 6006U 2GHz</td>\n",
       "      <td>4GB</td>\n",
       "      <td>1TB HDD</td>\n",
       "      <td>Intel HD Graphics 520</td>\n",
       "      <td>Windows 10</td>\n",
       "      <td>2.1kg</td>\n",
       "      <td>447.00</td>\n",
       "    </tr>\n",
       "  </tbody>\n",
       "</table>\n",
       "<p>150 rows × 13 columns</p>\n",
       "</div>"
      ],
      "text/plain": [
       "     laptop_ID Company                         Product   TypeName  Inches  \\\n",
       "0            1   Apple                     MacBook Pro  Ultrabook    13.3   \n",
       "1            2   Apple                     Macbook Air  Ultrabook    13.3   \n",
       "2            3      HP                          250 G6   Notebook    15.6   \n",
       "3            4   Apple                     MacBook Pro  Ultrabook    15.4   \n",
       "4            5   Apple                     MacBook Pro  Ultrabook    13.3   \n",
       "..         ...     ...                             ...        ...     ...   \n",
       "145        148    Asus                 ZenBook UX430UA  Ultrabook    14.0   \n",
       "146        149      HP                 EliteBook Folio  Ultrabook    12.5   \n",
       "147        150    Asus  X541NA (N3350/4GB/1TB/FHD/W10)   Notebook    15.6   \n",
       "148        151     MSI                     GE72MVR 7RG     Gaming    17.3   \n",
       "149        152    Acer                  Aspire A315-51   Notebook    15.6   \n",
       "\n",
       "                                  ScreenResolution  \\\n",
       "0               IPS Panel Retina Display 2560x1600   \n",
       "1                                         1440x900   \n",
       "2                                Full HD 1920x1080   \n",
       "3               IPS Panel Retina Display 2880x1800   \n",
       "4               IPS Panel Retina Display 2560x1600   \n",
       "..                                             ...   \n",
       "145                              Full HD 1920x1080   \n",
       "146  IPS Panel 4K Ultra HD / Touchscreen 3840x2160   \n",
       "147                              Full HD 1920x1080   \n",
       "148                              Full HD 1920x1080   \n",
       "149                                       1366x768   \n",
       "\n",
       "                                      Cpu   Ram                Memory  \\\n",
       "0                    Intel Core i5 2.3GHz   8GB             128GB SSD   \n",
       "1                    Intel Core i5 1.8GHz   8GB   128GB Flash Storage   \n",
       "2              Intel Core i5 7200U 2.5GHz   8GB             256GB SSD   \n",
       "3                    Intel Core i7 2.7GHz  16GB             512GB SSD   \n",
       "4                    Intel Core i5 3.1GHz   8GB             256GB SSD   \n",
       "..                                    ...   ...                   ...   \n",
       "145            Intel Core i7 8550U 1.8GHz   8GB             256GB SSD   \n",
       "146              Intel Core M 6Y75 1.2GHz   8GB             512GB SSD   \n",
       "147  Intel Celeron Dual Core N3350 1.1GHz   4GB               1TB HDD   \n",
       "148           Intel Core i7 7700HQ 2.8GHz  16GB  256GB SSD +  1TB HDD   \n",
       "149              Intel Core i3 6006U 2GHz   4GB               1TB HDD   \n",
       "\n",
       "                              Gpu       OpSys  Weight  Price_euros  \n",
       "0    Intel Iris Plus Graphics 640       macOS  1.37kg      1339.69  \n",
       "1          Intel HD Graphics 6000       macOS  1.34kg       898.94  \n",
       "2           Intel HD Graphics 620       No OS  1.86kg       575.00  \n",
       "3              AMD Radeon Pro 455       macOS  1.83kg      2537.45  \n",
       "4    Intel Iris Plus Graphics 650       macOS  1.37kg      1803.60  \n",
       "..                            ...         ...     ...          ...  \n",
       "145        Intel UHD Graphics 620  Windows 10  1.25kg      1099.00  \n",
       "146         Intel HD Graphics 515  Windows 10  0.97kg      2014.00  \n",
       "147         Intel HD Graphics 500  Windows 10     2kg       344.00  \n",
       "148       Nvidia GeForce GTX 1070  Windows 10   2.9kg      2029.00  \n",
       "149         Intel HD Graphics 520  Windows 10   2.1kg       447.00  \n",
       "\n",
       "[150 rows x 13 columns]"
      ]
     },
     "execution_count": 4,
     "metadata": {},
     "output_type": "execute_result"
    }
   ],
   "source": [
    "data.head(150)"
   ]
  },
  {
   "cell_type": "code",
   "execution_count": 5,
   "id": "1d3f32fe",
   "metadata": {
    "execution": {
     "iopub.execute_input": "2023-07-19T16:03:33.265513Z",
     "iopub.status.busy": "2023-07-19T16:03:33.265147Z",
     "iopub.status.idle": "2023-07-19T16:03:33.329404Z",
     "shell.execute_reply": "2023-07-19T16:03:33.328048Z"
    },
    "papermill": {
     "duration": 0.083941,
     "end_time": "2023-07-19T16:03:33.332010",
     "exception": false,
     "start_time": "2023-07-19T16:03:33.248069",
     "status": "completed"
    },
    "tags": []
   },
   "outputs": [
    {
     "data": {
      "text/html": [
       "<div>\n",
       "<style scoped>\n",
       "    .dataframe tbody tr th:only-of-type {\n",
       "        vertical-align: middle;\n",
       "    }\n",
       "\n",
       "    .dataframe tbody tr th {\n",
       "        vertical-align: top;\n",
       "    }\n",
       "\n",
       "    .dataframe thead th {\n",
       "        text-align: right;\n",
       "    }\n",
       "</style>\n",
       "<table border=\"1\" class=\"dataframe\">\n",
       "  <thead>\n",
       "    <tr style=\"text-align: right;\">\n",
       "      <th></th>\n",
       "      <th>laptop_ID</th>\n",
       "      <th>Company</th>\n",
       "      <th>Product</th>\n",
       "      <th>TypeName</th>\n",
       "      <th>Inches</th>\n",
       "      <th>ScreenResolution</th>\n",
       "      <th>Cpu</th>\n",
       "      <th>Ram</th>\n",
       "      <th>Memory</th>\n",
       "      <th>Gpu</th>\n",
       "      <th>OpSys</th>\n",
       "      <th>Weight</th>\n",
       "      <th>Price_euros</th>\n",
       "    </tr>\n",
       "  </thead>\n",
       "  <tbody>\n",
       "    <tr>\n",
       "      <th>count</th>\n",
       "      <td>1303.000000</td>\n",
       "      <td>1303</td>\n",
       "      <td>1303</td>\n",
       "      <td>1303</td>\n",
       "      <td>1303.000000</td>\n",
       "      <td>1303</td>\n",
       "      <td>1303</td>\n",
       "      <td>1303</td>\n",
       "      <td>1303</td>\n",
       "      <td>1303</td>\n",
       "      <td>1303</td>\n",
       "      <td>1303</td>\n",
       "      <td>1303.000000</td>\n",
       "    </tr>\n",
       "    <tr>\n",
       "      <th>unique</th>\n",
       "      <td>NaN</td>\n",
       "      <td>19</td>\n",
       "      <td>618</td>\n",
       "      <td>6</td>\n",
       "      <td>NaN</td>\n",
       "      <td>40</td>\n",
       "      <td>118</td>\n",
       "      <td>9</td>\n",
       "      <td>39</td>\n",
       "      <td>110</td>\n",
       "      <td>9</td>\n",
       "      <td>179</td>\n",
       "      <td>NaN</td>\n",
       "    </tr>\n",
       "    <tr>\n",
       "      <th>top</th>\n",
       "      <td>NaN</td>\n",
       "      <td>Dell</td>\n",
       "      <td>XPS 13</td>\n",
       "      <td>Notebook</td>\n",
       "      <td>NaN</td>\n",
       "      <td>Full HD 1920x1080</td>\n",
       "      <td>Intel Core i5 7200U 2.5GHz</td>\n",
       "      <td>8GB</td>\n",
       "      <td>256GB SSD</td>\n",
       "      <td>Intel HD Graphics 620</td>\n",
       "      <td>Windows 10</td>\n",
       "      <td>2.2kg</td>\n",
       "      <td>NaN</td>\n",
       "    </tr>\n",
       "    <tr>\n",
       "      <th>freq</th>\n",
       "      <td>NaN</td>\n",
       "      <td>297</td>\n",
       "      <td>30</td>\n",
       "      <td>727</td>\n",
       "      <td>NaN</td>\n",
       "      <td>507</td>\n",
       "      <td>190</td>\n",
       "      <td>619</td>\n",
       "      <td>412</td>\n",
       "      <td>281</td>\n",
       "      <td>1072</td>\n",
       "      <td>121</td>\n",
       "      <td>NaN</td>\n",
       "    </tr>\n",
       "    <tr>\n",
       "      <th>mean</th>\n",
       "      <td>660.155794</td>\n",
       "      <td>NaN</td>\n",
       "      <td>NaN</td>\n",
       "      <td>NaN</td>\n",
       "      <td>15.017191</td>\n",
       "      <td>NaN</td>\n",
       "      <td>NaN</td>\n",
       "      <td>NaN</td>\n",
       "      <td>NaN</td>\n",
       "      <td>NaN</td>\n",
       "      <td>NaN</td>\n",
       "      <td>NaN</td>\n",
       "      <td>1123.686992</td>\n",
       "    </tr>\n",
       "    <tr>\n",
       "      <th>std</th>\n",
       "      <td>381.172104</td>\n",
       "      <td>NaN</td>\n",
       "      <td>NaN</td>\n",
       "      <td>NaN</td>\n",
       "      <td>1.426304</td>\n",
       "      <td>NaN</td>\n",
       "      <td>NaN</td>\n",
       "      <td>NaN</td>\n",
       "      <td>NaN</td>\n",
       "      <td>NaN</td>\n",
       "      <td>NaN</td>\n",
       "      <td>NaN</td>\n",
       "      <td>699.009043</td>\n",
       "    </tr>\n",
       "    <tr>\n",
       "      <th>min</th>\n",
       "      <td>1.000000</td>\n",
       "      <td>NaN</td>\n",
       "      <td>NaN</td>\n",
       "      <td>NaN</td>\n",
       "      <td>10.100000</td>\n",
       "      <td>NaN</td>\n",
       "      <td>NaN</td>\n",
       "      <td>NaN</td>\n",
       "      <td>NaN</td>\n",
       "      <td>NaN</td>\n",
       "      <td>NaN</td>\n",
       "      <td>NaN</td>\n",
       "      <td>174.000000</td>\n",
       "    </tr>\n",
       "    <tr>\n",
       "      <th>25%</th>\n",
       "      <td>331.500000</td>\n",
       "      <td>NaN</td>\n",
       "      <td>NaN</td>\n",
       "      <td>NaN</td>\n",
       "      <td>14.000000</td>\n",
       "      <td>NaN</td>\n",
       "      <td>NaN</td>\n",
       "      <td>NaN</td>\n",
       "      <td>NaN</td>\n",
       "      <td>NaN</td>\n",
       "      <td>NaN</td>\n",
       "      <td>NaN</td>\n",
       "      <td>599.000000</td>\n",
       "    </tr>\n",
       "    <tr>\n",
       "      <th>50%</th>\n",
       "      <td>659.000000</td>\n",
       "      <td>NaN</td>\n",
       "      <td>NaN</td>\n",
       "      <td>NaN</td>\n",
       "      <td>15.600000</td>\n",
       "      <td>NaN</td>\n",
       "      <td>NaN</td>\n",
       "      <td>NaN</td>\n",
       "      <td>NaN</td>\n",
       "      <td>NaN</td>\n",
       "      <td>NaN</td>\n",
       "      <td>NaN</td>\n",
       "      <td>977.000000</td>\n",
       "    </tr>\n",
       "    <tr>\n",
       "      <th>75%</th>\n",
       "      <td>990.500000</td>\n",
       "      <td>NaN</td>\n",
       "      <td>NaN</td>\n",
       "      <td>NaN</td>\n",
       "      <td>15.600000</td>\n",
       "      <td>NaN</td>\n",
       "      <td>NaN</td>\n",
       "      <td>NaN</td>\n",
       "      <td>NaN</td>\n",
       "      <td>NaN</td>\n",
       "      <td>NaN</td>\n",
       "      <td>NaN</td>\n",
       "      <td>1487.880000</td>\n",
       "    </tr>\n",
       "    <tr>\n",
       "      <th>max</th>\n",
       "      <td>1320.000000</td>\n",
       "      <td>NaN</td>\n",
       "      <td>NaN</td>\n",
       "      <td>NaN</td>\n",
       "      <td>18.400000</td>\n",
       "      <td>NaN</td>\n",
       "      <td>NaN</td>\n",
       "      <td>NaN</td>\n",
       "      <td>NaN</td>\n",
       "      <td>NaN</td>\n",
       "      <td>NaN</td>\n",
       "      <td>NaN</td>\n",
       "      <td>6099.000000</td>\n",
       "    </tr>\n",
       "  </tbody>\n",
       "</table>\n",
       "</div>"
      ],
      "text/plain": [
       "          laptop_ID Company Product  TypeName       Inches   ScreenResolution  \\\n",
       "count   1303.000000    1303    1303      1303  1303.000000               1303   \n",
       "unique          NaN      19     618         6          NaN                 40   \n",
       "top             NaN    Dell  XPS 13  Notebook          NaN  Full HD 1920x1080   \n",
       "freq            NaN     297      30       727          NaN                507   \n",
       "mean     660.155794     NaN     NaN       NaN    15.017191                NaN   \n",
       "std      381.172104     NaN     NaN       NaN     1.426304                NaN   \n",
       "min        1.000000     NaN     NaN       NaN    10.100000                NaN   \n",
       "25%      331.500000     NaN     NaN       NaN    14.000000                NaN   \n",
       "50%      659.000000     NaN     NaN       NaN    15.600000                NaN   \n",
       "75%      990.500000     NaN     NaN       NaN    15.600000                NaN   \n",
       "max     1320.000000     NaN     NaN       NaN    18.400000                NaN   \n",
       "\n",
       "                               Cpu   Ram     Memory                    Gpu  \\\n",
       "count                         1303  1303       1303                   1303   \n",
       "unique                         118     9         39                    110   \n",
       "top     Intel Core i5 7200U 2.5GHz   8GB  256GB SSD  Intel HD Graphics 620   \n",
       "freq                           190   619        412                    281   \n",
       "mean                           NaN   NaN        NaN                    NaN   \n",
       "std                            NaN   NaN        NaN                    NaN   \n",
       "min                            NaN   NaN        NaN                    NaN   \n",
       "25%                            NaN   NaN        NaN                    NaN   \n",
       "50%                            NaN   NaN        NaN                    NaN   \n",
       "75%                            NaN   NaN        NaN                    NaN   \n",
       "max                            NaN   NaN        NaN                    NaN   \n",
       "\n",
       "             OpSys Weight  Price_euros  \n",
       "count         1303   1303  1303.000000  \n",
       "unique           9    179          NaN  \n",
       "top     Windows 10  2.2kg          NaN  \n",
       "freq          1072    121          NaN  \n",
       "mean           NaN    NaN  1123.686992  \n",
       "std            NaN    NaN   699.009043  \n",
       "min            NaN    NaN   174.000000  \n",
       "25%            NaN    NaN   599.000000  \n",
       "50%            NaN    NaN   977.000000  \n",
       "75%            NaN    NaN  1487.880000  \n",
       "max            NaN    NaN  6099.000000  "
      ]
     },
     "execution_count": 5,
     "metadata": {},
     "output_type": "execute_result"
    }
   ],
   "source": [
    "data.describe(include='all')"
   ]
  },
  {
   "cell_type": "code",
   "execution_count": 6,
   "id": "bf2bab30",
   "metadata": {
    "execution": {
     "iopub.execute_input": "2023-07-19T16:03:33.366159Z",
     "iopub.status.busy": "2023-07-19T16:03:33.365795Z",
     "iopub.status.idle": "2023-07-19T16:03:33.375757Z",
     "shell.execute_reply": "2023-07-19T16:03:33.373864Z"
    },
    "papermill": {
     "duration": 0.032243,
     "end_time": "2023-07-19T16:03:33.380024",
     "exception": false,
     "start_time": "2023-07-19T16:03:33.347781",
     "status": "completed"
    },
    "tags": []
   },
   "outputs": [
    {
     "data": {
      "text/plain": [
       "laptop_ID             int64\n",
       "Company              object\n",
       "Product              object\n",
       "TypeName             object\n",
       "Inches              float64\n",
       "ScreenResolution     object\n",
       "Cpu                  object\n",
       "Ram                  object\n",
       "Memory               object\n",
       "Gpu                  object\n",
       "OpSys                object\n",
       "Weight               object\n",
       "Price_euros         float64\n",
       "dtype: object"
      ]
     },
     "execution_count": 6,
     "metadata": {},
     "output_type": "execute_result"
    }
   ],
   "source": [
    "# Displays all the data types of the columns in df\n",
    "data.dtypes"
   ]
  },
  {
   "cell_type": "code",
   "execution_count": 7,
   "id": "676dccd6",
   "metadata": {
    "execution": {
     "iopub.execute_input": "2023-07-19T16:03:33.416971Z",
     "iopub.status.busy": "2023-07-19T16:03:33.416451Z",
     "iopub.status.idle": "2023-07-19T16:03:33.440392Z",
     "shell.execute_reply": "2023-07-19T16:03:33.438547Z"
    },
    "papermill": {
     "duration": 0.046168,
     "end_time": "2023-07-19T16:03:33.443105",
     "exception": false,
     "start_time": "2023-07-19T16:03:33.396937",
     "status": "completed"
    },
    "tags": []
   },
   "outputs": [
    {
     "name": "stdout",
     "output_type": "stream",
     "text": [
      "<class 'pandas.core.frame.DataFrame'>\n",
      "RangeIndex: 1303 entries, 0 to 1302\n",
      "Data columns (total 13 columns):\n",
      " #   Column            Non-Null Count  Dtype  \n",
      "---  ------            --------------  -----  \n",
      " 0   laptop_ID         1303 non-null   int64  \n",
      " 1   Company           1303 non-null   object \n",
      " 2   Product           1303 non-null   object \n",
      " 3   TypeName          1303 non-null   object \n",
      " 4   Inches            1303 non-null   float64\n",
      " 5   ScreenResolution  1303 non-null   object \n",
      " 6   Cpu               1303 non-null   object \n",
      " 7   Ram               1303 non-null   object \n",
      " 8   Memory            1303 non-null   object \n",
      " 9   Gpu               1303 non-null   object \n",
      " 10  OpSys             1303 non-null   object \n",
      " 11  Weight            1303 non-null   object \n",
      " 12  Price_euros       1303 non-null   float64\n",
      "dtypes: float64(2), int64(1), object(10)\n",
      "memory usage: 132.5+ KB\n"
     ]
    }
   ],
   "source": [
    "# shows non-null values and dtypes in a single \n",
    "data.info() "
   ]
  },
  {
   "cell_type": "code",
   "execution_count": 8,
   "id": "2317a062",
   "metadata": {
    "execution": {
     "iopub.execute_input": "2023-07-19T16:03:33.477914Z",
     "iopub.status.busy": "2023-07-19T16:03:33.477482Z",
     "iopub.status.idle": "2023-07-19T16:03:33.484622Z",
     "shell.execute_reply": "2023-07-19T16:03:33.483114Z"
    },
    "papermill": {
     "duration": 0.027545,
     "end_time": "2023-07-19T16:03:33.487263",
     "exception": false,
     "start_time": "2023-07-19T16:03:33.459718",
     "status": "completed"
    },
    "tags": []
   },
   "outputs": [
    {
     "data": {
      "text/plain": [
       "(1303, 13)"
      ]
     },
     "execution_count": 8,
     "metadata": {},
     "output_type": "execute_result"
    }
   ],
   "source": [
    "data.shape"
   ]
  },
  {
   "cell_type": "code",
   "execution_count": 9,
   "id": "2fb235f4",
   "metadata": {
    "execution": {
     "iopub.execute_input": "2023-07-19T16:03:33.523533Z",
     "iopub.status.busy": "2023-07-19T16:03:33.522041Z",
     "iopub.status.idle": "2023-07-19T16:03:33.554353Z",
     "shell.execute_reply": "2023-07-19T16:03:33.552987Z"
    },
    "papermill": {
     "duration": 0.053723,
     "end_time": "2023-07-19T16:03:33.557341",
     "exception": false,
     "start_time": "2023-07-19T16:03:33.503618",
     "status": "completed"
    },
    "tags": []
   },
   "outputs": [
    {
     "data": {
      "text/html": [
       "<div>\n",
       "<style scoped>\n",
       "    .dataframe tbody tr th:only-of-type {\n",
       "        vertical-align: middle;\n",
       "    }\n",
       "\n",
       "    .dataframe tbody tr th {\n",
       "        vertical-align: top;\n",
       "    }\n",
       "\n",
       "    .dataframe thead th {\n",
       "        text-align: right;\n",
       "    }\n",
       "</style>\n",
       "<table border=\"1\" class=\"dataframe\">\n",
       "  <thead>\n",
       "    <tr style=\"text-align: right;\">\n",
       "      <th></th>\n",
       "      <th>laptop_ID</th>\n",
       "      <th>Company</th>\n",
       "      <th>Product</th>\n",
       "      <th>TypeName</th>\n",
       "      <th>Inches</th>\n",
       "      <th>ScreenResolution</th>\n",
       "      <th>Cpu</th>\n",
       "      <th>Ram</th>\n",
       "      <th>Memory</th>\n",
       "      <th>Gpu</th>\n",
       "      <th>OpSys</th>\n",
       "      <th>Weight</th>\n",
       "      <th>Price_euros</th>\n",
       "    </tr>\n",
       "  </thead>\n",
       "  <tbody>\n",
       "    <tr>\n",
       "      <th>0</th>\n",
       "      <td>False</td>\n",
       "      <td>False</td>\n",
       "      <td>False</td>\n",
       "      <td>False</td>\n",
       "      <td>False</td>\n",
       "      <td>False</td>\n",
       "      <td>False</td>\n",
       "      <td>False</td>\n",
       "      <td>False</td>\n",
       "      <td>False</td>\n",
       "      <td>False</td>\n",
       "      <td>False</td>\n",
       "      <td>False</td>\n",
       "    </tr>\n",
       "    <tr>\n",
       "      <th>1</th>\n",
       "      <td>False</td>\n",
       "      <td>False</td>\n",
       "      <td>False</td>\n",
       "      <td>False</td>\n",
       "      <td>False</td>\n",
       "      <td>False</td>\n",
       "      <td>False</td>\n",
       "      <td>False</td>\n",
       "      <td>False</td>\n",
       "      <td>False</td>\n",
       "      <td>False</td>\n",
       "      <td>False</td>\n",
       "      <td>False</td>\n",
       "    </tr>\n",
       "    <tr>\n",
       "      <th>2</th>\n",
       "      <td>False</td>\n",
       "      <td>False</td>\n",
       "      <td>False</td>\n",
       "      <td>False</td>\n",
       "      <td>False</td>\n",
       "      <td>False</td>\n",
       "      <td>False</td>\n",
       "      <td>False</td>\n",
       "      <td>False</td>\n",
       "      <td>False</td>\n",
       "      <td>False</td>\n",
       "      <td>False</td>\n",
       "      <td>False</td>\n",
       "    </tr>\n",
       "    <tr>\n",
       "      <th>3</th>\n",
       "      <td>False</td>\n",
       "      <td>False</td>\n",
       "      <td>False</td>\n",
       "      <td>False</td>\n",
       "      <td>False</td>\n",
       "      <td>False</td>\n",
       "      <td>False</td>\n",
       "      <td>False</td>\n",
       "      <td>False</td>\n",
       "      <td>False</td>\n",
       "      <td>False</td>\n",
       "      <td>False</td>\n",
       "      <td>False</td>\n",
       "    </tr>\n",
       "    <tr>\n",
       "      <th>4</th>\n",
       "      <td>False</td>\n",
       "      <td>False</td>\n",
       "      <td>False</td>\n",
       "      <td>False</td>\n",
       "      <td>False</td>\n",
       "      <td>False</td>\n",
       "      <td>False</td>\n",
       "      <td>False</td>\n",
       "      <td>False</td>\n",
       "      <td>False</td>\n",
       "      <td>False</td>\n",
       "      <td>False</td>\n",
       "      <td>False</td>\n",
       "    </tr>\n",
       "    <tr>\n",
       "      <th>...</th>\n",
       "      <td>...</td>\n",
       "      <td>...</td>\n",
       "      <td>...</td>\n",
       "      <td>...</td>\n",
       "      <td>...</td>\n",
       "      <td>...</td>\n",
       "      <td>...</td>\n",
       "      <td>...</td>\n",
       "      <td>...</td>\n",
       "      <td>...</td>\n",
       "      <td>...</td>\n",
       "      <td>...</td>\n",
       "      <td>...</td>\n",
       "    </tr>\n",
       "    <tr>\n",
       "      <th>1298</th>\n",
       "      <td>False</td>\n",
       "      <td>False</td>\n",
       "      <td>False</td>\n",
       "      <td>False</td>\n",
       "      <td>False</td>\n",
       "      <td>False</td>\n",
       "      <td>False</td>\n",
       "      <td>False</td>\n",
       "      <td>False</td>\n",
       "      <td>False</td>\n",
       "      <td>False</td>\n",
       "      <td>False</td>\n",
       "      <td>False</td>\n",
       "    </tr>\n",
       "    <tr>\n",
       "      <th>1299</th>\n",
       "      <td>False</td>\n",
       "      <td>False</td>\n",
       "      <td>False</td>\n",
       "      <td>False</td>\n",
       "      <td>False</td>\n",
       "      <td>False</td>\n",
       "      <td>False</td>\n",
       "      <td>False</td>\n",
       "      <td>False</td>\n",
       "      <td>False</td>\n",
       "      <td>False</td>\n",
       "      <td>False</td>\n",
       "      <td>False</td>\n",
       "    </tr>\n",
       "    <tr>\n",
       "      <th>1300</th>\n",
       "      <td>False</td>\n",
       "      <td>False</td>\n",
       "      <td>False</td>\n",
       "      <td>False</td>\n",
       "      <td>False</td>\n",
       "      <td>False</td>\n",
       "      <td>False</td>\n",
       "      <td>False</td>\n",
       "      <td>False</td>\n",
       "      <td>False</td>\n",
       "      <td>False</td>\n",
       "      <td>False</td>\n",
       "      <td>False</td>\n",
       "    </tr>\n",
       "    <tr>\n",
       "      <th>1301</th>\n",
       "      <td>False</td>\n",
       "      <td>False</td>\n",
       "      <td>False</td>\n",
       "      <td>False</td>\n",
       "      <td>False</td>\n",
       "      <td>False</td>\n",
       "      <td>False</td>\n",
       "      <td>False</td>\n",
       "      <td>False</td>\n",
       "      <td>False</td>\n",
       "      <td>False</td>\n",
       "      <td>False</td>\n",
       "      <td>False</td>\n",
       "    </tr>\n",
       "    <tr>\n",
       "      <th>1302</th>\n",
       "      <td>False</td>\n",
       "      <td>False</td>\n",
       "      <td>False</td>\n",
       "      <td>False</td>\n",
       "      <td>False</td>\n",
       "      <td>False</td>\n",
       "      <td>False</td>\n",
       "      <td>False</td>\n",
       "      <td>False</td>\n",
       "      <td>False</td>\n",
       "      <td>False</td>\n",
       "      <td>False</td>\n",
       "      <td>False</td>\n",
       "    </tr>\n",
       "  </tbody>\n",
       "</table>\n",
       "<p>1303 rows × 13 columns</p>\n",
       "</div>"
      ],
      "text/plain": [
       "      laptop_ID  Company  Product  TypeName  Inches  ScreenResolution    Cpu  \\\n",
       "0         False    False    False     False   False             False  False   \n",
       "1         False    False    False     False   False             False  False   \n",
       "2         False    False    False     False   False             False  False   \n",
       "3         False    False    False     False   False             False  False   \n",
       "4         False    False    False     False   False             False  False   \n",
       "...         ...      ...      ...       ...     ...               ...    ...   \n",
       "1298      False    False    False     False   False             False  False   \n",
       "1299      False    False    False     False   False             False  False   \n",
       "1300      False    False    False     False   False             False  False   \n",
       "1301      False    False    False     False   False             False  False   \n",
       "1302      False    False    False     False   False             False  False   \n",
       "\n",
       "        Ram  Memory    Gpu  OpSys  Weight  Price_euros  \n",
       "0     False   False  False  False   False        False  \n",
       "1     False   False  False  False   False        False  \n",
       "2     False   False  False  False   False        False  \n",
       "3     False   False  False  False   False        False  \n",
       "4     False   False  False  False   False        False  \n",
       "...     ...     ...    ...    ...     ...          ...  \n",
       "1298  False   False  False  False   False        False  \n",
       "1299  False   False  False  False   False        False  \n",
       "1300  False   False  False  False   False        False  \n",
       "1301  False   False  False  False   False        False  \n",
       "1302  False   False  False  False   False        False  \n",
       "\n",
       "[1303 rows x 13 columns]"
      ]
     },
     "execution_count": 9,
     "metadata": {},
     "output_type": "execute_result"
    }
   ],
   "source": [
    "data.isnull()"
   ]
  },
  {
   "cell_type": "code",
   "execution_count": 10,
   "id": "334eb901",
   "metadata": {
    "execution": {
     "iopub.execute_input": "2023-07-19T16:03:33.596688Z",
     "iopub.status.busy": "2023-07-19T16:03:33.596222Z",
     "iopub.status.idle": "2023-07-19T16:03:33.611713Z",
     "shell.execute_reply": "2023-07-19T16:03:33.610622Z"
    },
    "papermill": {
     "duration": 0.038105,
     "end_time": "2023-07-19T16:03:33.614211",
     "exception": false,
     "start_time": "2023-07-19T16:03:33.576106",
     "status": "completed"
    },
    "tags": []
   },
   "outputs": [
    {
     "data": {
      "text/plain": [
       "laptop_ID           0.0\n",
       "Company             0.0\n",
       "Product             0.0\n",
       "TypeName            0.0\n",
       "Inches              0.0\n",
       "ScreenResolution    0.0\n",
       "Cpu                 0.0\n",
       "Ram                 0.0\n",
       "Memory              0.0\n",
       "Gpu                 0.0\n",
       "OpSys               0.0\n",
       "Weight              0.0\n",
       "Price_euros         0.0\n",
       "dtype: float64"
      ]
     },
     "execution_count": 10,
     "metadata": {},
     "output_type": "execute_result"
    }
   ],
   "source": [
    "#To find the percentage of missing data in the dataframe for each column\n",
    "data.isnull().sum()*100/len(data)"
   ]
  },
  {
   "cell_type": "code",
   "execution_count": 11,
   "id": "51904c92",
   "metadata": {
    "execution": {
     "iopub.execute_input": "2023-07-19T16:03:33.651100Z",
     "iopub.status.busy": "2023-07-19T16:03:33.650694Z",
     "iopub.status.idle": "2023-07-19T16:03:33.665750Z",
     "shell.execute_reply": "2023-07-19T16:03:33.664626Z"
    },
    "papermill": {
     "duration": 0.036994,
     "end_time": "2023-07-19T16:03:33.668594",
     "exception": false,
     "start_time": "2023-07-19T16:03:33.631600",
     "status": "completed"
    },
    "tags": []
   },
   "outputs": [
    {
     "data": {
      "text/plain": [
       "0       False\n",
       "1       False\n",
       "2       False\n",
       "3       False\n",
       "4       False\n",
       "        ...  \n",
       "1298    False\n",
       "1299    False\n",
       "1300    False\n",
       "1301    False\n",
       "1302    False\n",
       "Length: 1303, dtype: bool"
      ]
     },
     "execution_count": 11,
     "metadata": {},
     "output_type": "execute_result"
    }
   ],
   "source": [
    "data.duplicated()"
   ]
  },
  {
   "cell_type": "markdown",
   "id": "d36da689",
   "metadata": {
    "papermill": {
     "duration": 0.017261,
     "end_time": "2023-07-19T16:03:33.704041",
     "exception": false,
     "start_time": "2023-07-19T16:03:33.686780",
     "status": "completed"
    },
    "tags": []
   },
   "source": [
    "# preprocessing"
   ]
  },
  {
   "cell_type": "code",
   "execution_count": 12,
   "id": "3a6324e5",
   "metadata": {
    "execution": {
     "iopub.execute_input": "2023-07-19T16:03:33.741076Z",
     "iopub.status.busy": "2023-07-19T16:03:33.740671Z",
     "iopub.status.idle": "2023-07-19T16:03:33.754144Z",
     "shell.execute_reply": "2023-07-19T16:03:33.752951Z"
    },
    "papermill": {
     "duration": 0.035347,
     "end_time": "2023-07-19T16:03:33.756821",
     "exception": false,
     "start_time": "2023-07-19T16:03:33.721474",
     "status": "completed"
    },
    "tags": []
   },
   "outputs": [],
   "source": [
    "#remove gb and kg from Ram and weight ,and convert the cols to numeric\n",
    "data['Ram']=data['Ram'].str.replace('GB','')\n",
    "data['Weight']=data['Weight'].str.replace('kg','')\n",
    "data['Ram']=data['Ram'].astype('int32')\n",
    "data['Weight']=data['Weight'].astype('float32')"
   ]
  },
  {
   "cell_type": "code",
   "execution_count": 13,
   "id": "3676fc70",
   "metadata": {
    "execution": {
     "iopub.execute_input": "2023-07-19T16:03:33.794010Z",
     "iopub.status.busy": "2023-07-19T16:03:33.793581Z",
     "iopub.status.idle": "2023-07-19T16:03:33.801535Z",
     "shell.execute_reply": "2023-07-19T16:03:33.800779Z"
    },
    "papermill": {
     "duration": 0.029115,
     "end_time": "2023-07-19T16:03:33.803608",
     "exception": false,
     "start_time": "2023-07-19T16:03:33.774493",
     "status": "completed"
    },
    "tags": []
   },
   "outputs": [
    {
     "data": {
      "text/plain": [
       "Index(['laptop_ID', 'Company', 'Product', 'TypeName', 'Inches',\n",
       "       'ScreenResolution', 'Cpu', 'Ram', 'Memory', 'Gpu', 'OpSys', 'Weight',\n",
       "       'Price'],\n",
       "      dtype='object')"
      ]
     },
     "execution_count": 13,
     "metadata": {},
     "output_type": "execute_result"
    }
   ],
   "source": [
    "\n",
    "data = data.rename(columns={\"Price_euros\": \"Price\"})\n",
    "data.columns"
   ]
  },
  {
   "cell_type": "code",
   "execution_count": 14,
   "id": "c760ac4c",
   "metadata": {
    "execution": {
     "iopub.execute_input": "2023-07-19T16:03:33.841960Z",
     "iopub.status.busy": "2023-07-19T16:03:33.841282Z",
     "iopub.status.idle": "2023-07-19T16:03:33.851209Z",
     "shell.execute_reply": "2023-07-19T16:03:33.849889Z"
    },
    "papermill": {
     "duration": 0.031693,
     "end_time": "2023-07-19T16:03:33.853701",
     "exception": false,
     "start_time": "2023-07-19T16:03:33.822008",
     "status": "completed"
    },
    "tags": []
   },
   "outputs": [],
   "source": [
    "data['Touchscreen']=data['ScreenResolution'].apply(lambda x:1 if 'Touchscreen' in x else 0)\n",
    "data['IPS']=data['ScreenResolution'].apply(lambda x:1 if 'IPS' in x else 0)"
   ]
  },
  {
   "cell_type": "code",
   "execution_count": 15,
   "id": "5dd0a890",
   "metadata": {
    "execution": {
     "iopub.execute_input": "2023-07-19T16:03:33.892505Z",
     "iopub.status.busy": "2023-07-19T16:03:33.892063Z",
     "iopub.status.idle": "2023-07-19T16:03:33.898688Z",
     "shell.execute_reply": "2023-07-19T16:03:33.897236Z"
    },
    "papermill": {
     "duration": 0.029591,
     "end_time": "2023-07-19T16:03:33.900980",
     "exception": false,
     "start_time": "2023-07-19T16:03:33.871389",
     "status": "completed"
    },
    "tags": []
   },
   "outputs": [],
   "source": [
    "def findXresolution(s):\n",
    "    return s.split()[-1].split('x')[0]\n",
    "def findYresolution(s):\n",
    "    return s.split()[-1].split('x')[1]"
   ]
  },
  {
   "cell_type": "code",
   "execution_count": 16,
   "id": "4dc89a3d",
   "metadata": {
    "execution": {
     "iopub.execute_input": "2023-07-19T16:03:33.941787Z",
     "iopub.status.busy": "2023-07-19T16:03:33.940565Z",
     "iopub.status.idle": "2023-07-19T16:03:33.954651Z",
     "shell.execute_reply": "2023-07-19T16:03:33.953151Z"
    },
    "papermill": {
     "duration": 0.03927,
     "end_time": "2023-07-19T16:03:33.957781",
     "exception": false,
     "start_time": "2023-07-19T16:03:33.918511",
     "status": "completed"
    },
    "tags": []
   },
   "outputs": [],
   "source": [
    "#finding the x_res and y_res from screen resolution \n",
    "data['x_res']=data['ScreenResolution'].apply(lambda x:findXresolution(x))\n",
    "data['y_res']=data['ScreenResolution'].apply(lambda y:findYresolution(y))\n",
    "#convert to numeric\n",
    "data['x_res']=data['x_res'].astype('int')\n",
    "data['y_res']=data['y_res'].astype('int')"
   ]
  },
  {
   "cell_type": "code",
   "execution_count": 17,
   "id": "23e75903",
   "metadata": {
    "execution": {
     "iopub.execute_input": "2023-07-19T16:03:33.996901Z",
     "iopub.status.busy": "2023-07-19T16:03:33.995839Z",
     "iopub.status.idle": "2023-07-19T16:03:34.016316Z",
     "shell.execute_reply": "2023-07-19T16:03:34.015004Z"
    },
    "papermill": {
     "duration": 0.043138,
     "end_time": "2023-07-19T16:03:34.019353",
     "exception": false,
     "start_time": "2023-07-19T16:03:33.976215",
     "status": "completed"
    },
    "tags": []
   },
   "outputs": [
    {
     "name": "stderr",
     "output_type": "stream",
     "text": [
      "/tmp/ipykernel_20/2917964540.py:3: FutureWarning: The default value of numeric_only in DataFrame.corr is deprecated. In a future version, it will default to False. Select only valid columns or specify the value of numeric_only to silence this warning.\n",
      "  data.corr()['Price'].sort_values(ascending=False)\n"
     ]
    },
    {
     "data": {
      "text/plain": [
       "Price          1.000000\n",
       "Ram            0.743007\n",
       "x_res          0.556529\n",
       "y_res          0.552809\n",
       "PPI            0.473487\n",
       "IPS            0.252208\n",
       "Weight         0.210370\n",
       "Touchscreen    0.191226\n",
       "Inches         0.068197\n",
       "laptop_ID      0.067830\n",
       "Name: Price, dtype: float64"
      ]
     },
     "execution_count": 17,
     "metadata": {},
     "output_type": "execute_result"
    }
   ],
   "source": [
    "data['PPI'] = (((data['x_res']**2) + (data['y_res']**2))**0.5 / data['Inches']).astype('float')\n",
    "\n",
    "data.corr()['Price'].sort_values(ascending=False)"
   ]
  },
  {
   "cell_type": "code",
   "execution_count": 18,
   "id": "fdc61ce5",
   "metadata": {
    "execution": {
     "iopub.execute_input": "2023-07-19T16:03:34.057477Z",
     "iopub.status.busy": "2023-07-19T16:03:34.057079Z",
     "iopub.status.idle": "2023-07-19T16:03:34.354098Z",
     "shell.execute_reply": "2023-07-19T16:03:34.352668Z"
    },
    "papermill": {
     "duration": 0.319884,
     "end_time": "2023-07-19T16:03:34.357366",
     "exception": false,
     "start_time": "2023-07-19T16:03:34.037482",
     "status": "completed"
    },
    "tags": []
   },
   "outputs": [
    {
     "data": {
      "image/png": "[encoded data removed]",
      "text/plain": [
       "<Figure size 640x480 with 1 Axes>"
      ]
     },
     "metadata": {},
     "output_type": "display_data"
    }
   ],
   "source": [
    "sns.scatterplot(x=data['Inches'],y=data['Price'])\n",
    "plt.show()"
   ]
  },
  {
   "cell_type": "code",
   "execution_count": 19,
   "id": "8bf4487c",
   "metadata": {
    "execution": {
     "iopub.execute_input": "2023-07-19T16:03:34.403220Z",
     "iopub.status.busy": "2023-07-19T16:03:34.402688Z",
     "iopub.status.idle": "2023-07-19T16:03:34.412532Z",
     "shell.execute_reply": "2023-07-19T16:03:34.411410Z"
    },
    "papermill": {
     "duration": 0.036741,
     "end_time": "2023-07-19T16:03:34.415059",
     "exception": false,
     "start_time": "2023-07-19T16:03:34.378318",
     "status": "completed"
    },
    "tags": []
   },
   "outputs": [],
   "source": [
    "data.drop(columns=['ScreenResolution','Inches','x_res','y_res'],inplace=True)"
   ]
  },
  {
   "cell_type": "code",
   "execution_count": 20,
   "id": "2af6b88f",
   "metadata": {
    "execution": {
     "iopub.execute_input": "2023-07-19T16:03:34.454601Z",
     "iopub.status.busy": "2023-07-19T16:03:34.453193Z",
     "iopub.status.idle": "2023-07-19T16:03:34.464840Z",
     "shell.execute_reply": "2023-07-19T16:03:34.463964Z"
    },
    "papermill": {
     "duration": 0.034014,
     "end_time": "2023-07-19T16:03:34.467358",
     "exception": false,
     "start_time": "2023-07-19T16:03:34.433344",
     "status": "completed"
    },
    "tags": []
   },
   "outputs": [],
   "source": [
    "#first we will extract name of cpu ehich is first 3 words from cpu column and then we will check which processor it is \n",
    "def fetch_processor(x):\n",
    "    cpu_name=\" \".join(x.split()[0:3])\n",
    "    if cpu_name=='Intel Core i7' or cpu_name == 'Intel Core i5' or cpu_name == 'Intel Core i3':\n",
    "        return cpu_name\n",
    "    elif cpu_name.split()[0]=='Intel':\n",
    "        return 'Other Intel Processor'\n",
    "    else:\n",
    "        return 'AMD Processor'\n",
    "    \n",
    "data['Cpu_brand']=data['Cpu'].apply(lambda x:fetch_processor(x))    \n"
   ]
  },
  {
   "cell_type": "code",
   "execution_count": 21,
   "id": "2a6afe18",
   "metadata": {
    "execution": {
     "iopub.execute_input": "2023-07-19T16:03:34.506445Z",
     "iopub.status.busy": "2023-07-19T16:03:34.505739Z",
     "iopub.status.idle": "2023-07-19T16:03:34.569737Z",
     "shell.execute_reply": "2023-07-19T16:03:34.568186Z"
    },
    "papermill": {
     "duration": 0.087193,
     "end_time": "2023-07-19T16:03:34.572626",
     "exception": false,
     "start_time": "2023-07-19T16:03:34.485433",
     "status": "completed"
    },
    "tags": []
   },
   "outputs": [],
   "source": [
    "data['Memory'] = data['Memory'].astype(str).replace('.0', '', regex=True)\n",
    "data['Memory'] = data['Memory'].str.replace('GB', '')\n",
    "data['Memory'] = data['Memory'].str.replace('TB', '000')\n",
    "new = data['Memory'].str.split('+', n=1, expand=True)\n",
    "data['first'] = new[0]\n",
    "data['first'] = data['first'].str.strip()\n",
    "data['second'] = new[1]\n",
    "data['Layer1HDD'] = data['first'].apply(lambda x: 1 if 'HDD' in x else 0)\n",
    "data['Layer1SSD'] = data['first'].apply(lambda x: 1 if 'SSD' in x else 0)\n",
    "data[\"Layer1Hybrid\"] = data['first'].apply(lambda x: 1 if 'Hybrid' in x else 0)\n",
    "data['Layer1Flash_Storage'] = data['first'].apply(lambda x: 1 if 'Flash Storage' in x else 0)\n",
    "data['first'] = data['first'].str.replace(r'D', '')\n",
    "data['second'].fillna('0', inplace=True)\n",
    "data['Layer2HDD'] = data['second'].apply(lambda x: 1 if 'HDD' in x else 0)\n",
    "data['Layer2SSD'] = data['second'].apply(lambda x: 1 if 'SSD' in x else 0)\n",
    "data[\"Layer2Hybrid\"] = data['second'].apply(lambda x: 1 if 'Hybrid' in x else 0)\n",
    "data['Layer2Flash_Storage'] = data['second'].apply(lambda x: 1 if 'Flash Storage' in x else 0)\n",
    "data['second'] = data['second'].str.replace(r'D', '')\n",
    "#binary encoding\n",
    "data[\"Layer2HDD\"] = data[\"second\"].apply(lambda x: 1 if \"HDD\" in x else 0)\n",
    "data[\"Layer2SSD\"] = data[\"second\"].apply(lambda x: 1 if \"SSD\" in x else 0)\n",
    "data[\"Layer2Hybrid\"] = data[\"second\"].apply(lambda x: 1 if \"Hybrid\" in x else 0)\n",
    "data[\"Layer2Flash_Storage\"] = data[\"second\"].apply(lambda x: 1 if \"Flash Storage\" in x else 0)\n",
    "#only keep integert(digits)\n",
    "data['second'] = data['second'].str.replace(r'D', '')\n",
    "\n",
    "import pandas as pd\n",
    "\n",
    "# Extract numeric values from 'first' and 'second' columns\n",
    "data['first'] = data['first'].str.extract('(\\d+)', expand=False)\n",
    "data['second'] = data['second'].str.extract('(\\d+)', expand=False)\n",
    "\n",
    "# Convert to numeric\n",
    "data['first'] = pd.to_numeric(data['first'], errors='coerce')\n",
    "data['second'] = pd.to_numeric(data['second'], errors='coerce')\n",
    "\n"
   ]
  },
  {
   "cell_type": "code",
   "execution_count": 22,
   "id": "7dfb35e9",
   "metadata": {
    "execution": {
     "iopub.execute_input": "2023-07-19T16:03:34.611242Z",
     "iopub.status.busy": "2023-07-19T16:03:34.610827Z",
     "iopub.status.idle": "2023-07-19T16:03:34.628029Z",
     "shell.execute_reply": "2023-07-19T16:03:34.626554Z"
    },
    "papermill": {
     "duration": 0.039545,
     "end_time": "2023-07-19T16:03:34.630627",
     "exception": false,
     "start_time": "2023-07-19T16:03:34.591082",
     "status": "completed"
    },
    "tags": []
   },
   "outputs": [],
   "source": [
    "#finalize the columns by keeping value\n",
    "data['HDD']=(data['first']*data['Layer1HDD']+data['second']*data['Layer2HDD'])\n",
    "data['SSD']=(data['first']*data['Layer1SSD']+data['second']*data['Layer2SSD'])\n",
    "data['Hybrid']=(data['first']*data['Layer1Hybrid']+data['second']*data['Layer2Hybrid'])\n",
    "data['Flash_Storage']=(data['first']*data['Layer1Flash_Storage']+data['second']*data['Layer2Flash_Storage'])\n",
    "#drop the unrequired columns\n",
    "data.drop(columns=['first', 'second', 'Layer1HDD', 'Layer1SSD','Layer1Hybrid','Layer1Flash_Storage', 'Layer2HDD', 'Layer2SSD','Layer2Hybrid','Layer2Flash_Storage'],inplace=True)\n",
    "data.drop(columns=['Hybrid','Flash_Storage','Memory','Cpu'],inplace=True)"
   ]
  },
  {
   "cell_type": "code",
   "execution_count": 23,
   "id": "75bd5498",
   "metadata": {
    "execution": {
     "iopub.execute_input": "2023-07-19T16:03:34.668802Z",
     "iopub.status.busy": "2023-07-19T16:03:34.668324Z",
     "iopub.status.idle": "2023-07-19T16:03:34.680817Z",
     "shell.execute_reply": "2023-07-19T16:03:34.679362Z"
    },
    "papermill": {
     "duration": 0.034468,
     "end_time": "2023-07-19T16:03:34.683300",
     "exception": false,
     "start_time": "2023-07-19T16:03:34.648832",
     "status": "completed"
    },
    "tags": []
   },
   "outputs": [
    {
     "data": {
      "text/plain": [
       "array(['Intel', 'AMD', 'Nvidia', 'ARM'], dtype=object)"
      ]
     },
     "execution_count": 23,
     "metadata": {},
     "output_type": "execute_result"
    }
   ],
   "source": [
    "#which brand Gpu is in Laptop\n",
    "data['brand_Gpu']=data['Gpu'].apply(lambda x:x.split()[0])\n",
    "data['brand_Gpu'].unique()\n"
   ]
  },
  {
   "cell_type": "code",
   "execution_count": 24,
   "id": "ff366fa4",
   "metadata": {
    "execution": {
     "iopub.execute_input": "2023-07-19T16:03:34.721929Z",
     "iopub.status.busy": "2023-07-19T16:03:34.721424Z",
     "iopub.status.idle": "2023-07-19T16:03:34.734794Z",
     "shell.execute_reply": "2023-07-19T16:03:34.733424Z"
    },
    "papermill": {
     "duration": 0.036126,
     "end_time": "2023-07-19T16:03:34.737645",
     "exception": false,
     "start_time": "2023-07-19T16:03:34.701519",
     "status": "completed"
    },
    "tags": []
   },
   "outputs": [
    {
     "data": {
      "text/plain": [
       "1"
      ]
     },
     "execution_count": 24,
     "metadata": {},
     "output_type": "execute_result"
    }
   ],
   "source": [
    "len(data[data['brand_Gpu']=='ARM'])"
   ]
  },
  {
   "cell_type": "code",
   "execution_count": 25,
   "id": "38b34c26",
   "metadata": {
    "execution": {
     "iopub.execute_input": "2023-07-19T16:03:34.779218Z",
     "iopub.status.busy": "2023-07-19T16:03:34.778766Z",
     "iopub.status.idle": "2023-07-19T16:03:34.794120Z",
     "shell.execute_reply": "2023-07-19T16:03:34.792710Z"
    },
    "papermill": {
     "duration": 0.039284,
     "end_time": "2023-07-19T16:03:34.796818",
     "exception": false,
     "start_time": "2023-07-19T16:03:34.757534",
     "status": "completed"
    },
    "tags": []
   },
   "outputs": [
    {
     "data": {
      "text/plain": [
       "laptop_ID      1\n",
       "Company        1\n",
       "Product        1\n",
       "TypeName       1\n",
       "Ram            1\n",
       "Gpu            1\n",
       "OpSys          1\n",
       "Weight         1\n",
       "Price          1\n",
       "Touchscreen    1\n",
       "IPS            1\n",
       "PPI            1\n",
       "Cpu_brand      1\n",
       "HDD            1\n",
       "SSD            1\n",
       "brand_Gpu      1\n",
       "dtype: int64"
      ]
     },
     "execution_count": 25,
     "metadata": {},
     "output_type": "execute_result"
    }
   ],
   "source": [
    "data[data['brand_Gpu']=='ARM'].count()"
   ]
  },
  {
   "cell_type": "code",
   "execution_count": 26,
   "id": "df6ee100",
   "metadata": {
    "execution": {
     "iopub.execute_input": "2023-07-19T16:03:34.841931Z",
     "iopub.status.busy": "2023-07-19T16:03:34.841520Z",
     "iopub.status.idle": "2023-07-19T16:03:34.849818Z",
     "shell.execute_reply": "2023-07-19T16:03:34.848619Z"
    },
    "papermill": {
     "duration": 0.033431,
     "end_time": "2023-07-19T16:03:34.852522",
     "exception": false,
     "start_time": "2023-07-19T16:03:34.819091",
     "status": "completed"
    },
    "tags": []
   },
   "outputs": [],
   "source": [
    "#there is only 1 row of ARM GPU so remove it\n",
    "data=data[data['brand_Gpu']!='ARM']\n",
    "data.drop(columns=['Gpu'],inplace=True)"
   ]
  },
  {
   "cell_type": "code",
   "execution_count": 27,
   "id": "506cad52",
   "metadata": {
    "execution": {
     "iopub.execute_input": "2023-07-19T16:03:34.895719Z",
     "iopub.status.busy": "2023-07-19T16:03:34.895280Z",
     "iopub.status.idle": "2023-07-19T16:03:34.903672Z",
     "shell.execute_reply": "2023-07-19T16:03:34.902361Z"
    },
    "papermill": {
     "duration": 0.03349,
     "end_time": "2023-07-19T16:03:34.906232",
     "exception": false,
     "start_time": "2023-07-19T16:03:34.872742",
     "status": "completed"
    },
    "tags": []
   },
   "outputs": [
    {
     "data": {
      "text/plain": [
       "array(['macOS', 'No OS', 'Windows 10', 'Mac OS X', 'Linux', 'Android',\n",
       "       'Windows 10 S', 'Chrome OS', 'Windows 7'], dtype=object)"
      ]
     },
     "execution_count": 27,
     "metadata": {},
     "output_type": "execute_result"
    }
   ],
   "source": [
    "data['OpSys'].unique()"
   ]
  },
  {
   "cell_type": "code",
   "execution_count": 28,
   "id": "b1ebbbb3",
   "metadata": {
    "execution": {
     "iopub.execute_input": "2023-07-19T16:03:34.948060Z",
     "iopub.status.busy": "2023-07-19T16:03:34.947581Z",
     "iopub.status.idle": "2023-07-19T16:03:34.957054Z",
     "shell.execute_reply": "2023-07-19T16:03:34.955515Z"
    },
    "papermill": {
     "duration": 0.033335,
     "end_time": "2023-07-19T16:03:34.959539",
     "exception": false,
     "start_time": "2023-07-19T16:03:34.926204",
     "status": "completed"
    },
    "tags": []
   },
   "outputs": [],
   "source": [
    "#get which os system\n",
    "\n",
    "def get_os(a):\n",
    "    if a=='Windows 10'or a=='Windows 10 S'or a=='Windows 7':\n",
    "        return 'Windows'\n",
    "    elif a=='macOS'or a=='Mac OS X':\n",
    "        return 'Mac'\n",
    "    else:\n",
    "        return 'Others/No OS/Linux'\n",
    "    \n",
    "data['os']=data['OpSys'].apply(get_os) \n"
   ]
  },
  {
   "cell_type": "code",
   "execution_count": 29,
   "id": "514222c9",
   "metadata": {
    "execution": {
     "iopub.execute_input": "2023-07-19T16:03:35.002597Z",
     "iopub.status.busy": "2023-07-19T16:03:35.002100Z",
     "iopub.status.idle": "2023-07-19T16:03:35.011317Z",
     "shell.execute_reply": "2023-07-19T16:03:35.009764Z"
    },
    "papermill": {
     "duration": 0.03383,
     "end_time": "2023-07-19T16:03:35.014115",
     "exception": false,
     "start_time": "2023-07-19T16:03:34.980285",
     "status": "completed"
    },
    "tags": []
   },
   "outputs": [],
   "source": [
    "data.drop(columns=['OpSys'],inplace=True)"
   ]
  },
  {
   "cell_type": "code",
   "execution_count": 30,
   "id": "19ea659e",
   "metadata": {
    "execution": {
     "iopub.execute_input": "2023-07-19T16:03:35.057493Z",
     "iopub.status.busy": "2023-07-19T16:03:35.057035Z",
     "iopub.status.idle": "2023-07-19T16:03:35.420742Z",
     "shell.execute_reply": "2023-07-19T16:03:35.419843Z"
    },
    "papermill": {
     "duration": 0.388384,
     "end_time": "2023-07-19T16:03:35.423292",
     "exception": false,
     "start_time": "2023-07-19T16:03:35.034908",
     "status": "completed"
    },
    "tags": []
   },
   "outputs": [
    {
     "data": {
      "image/png": "[encoded data removed]",
      "text/plain": [
       "<Figure size 640x480 with 1 Axes>"
      ]
     },
     "metadata": {},
     "output_type": "display_data"
    }
   ],
   "source": [
    "sns.barplot(x=data['os'],y=data['Price'])\n",
    "plt.xticks(rotation='vertical')\n",
    "plt.show()"
   ]
  },
  {
   "cell_type": "markdown",
   "id": "0272185b",
   "metadata": {
    "papermill": {
     "duration": 0.019752,
     "end_time": "2023-07-19T16:03:35.464280",
     "exception": false,
     "start_time": "2023-07-19T16:03:35.444528",
     "status": "completed"
    },
    "tags": []
   },
   "source": [
    "# visualization"
   ]
  },
  {
   "cell_type": "code",
   "execution_count": 31,
   "id": "61f90c3a",
   "metadata": {
    "execution": {
     "iopub.execute_input": "2023-07-19T16:03:35.506506Z",
     "iopub.status.busy": "2023-07-19T16:03:35.505954Z",
     "iopub.status.idle": "2023-07-19T16:03:36.037841Z",
     "shell.execute_reply": "2023-07-19T16:03:36.036925Z"
    },
    "papermill": {
     "duration": 0.555184,
     "end_time": "2023-07-19T16:03:36.039972",
     "exception": false,
     "start_time": "2023-07-19T16:03:35.484788",
     "status": "completed"
    },
    "tags": []
   },
   "outputs": [
    {
     "data": {
      "image/png": "[encoded data removed]",
      "text/plain": [
       "<Figure size 500x500 with 1 Axes>"
      ]
     },
     "metadata": {},
     "output_type": "display_data"
    }
   ],
   "source": [
    "sns.displot(data['Price'])\n",
    "plt.show()"
   ]
  },
  {
   "cell_type": "code",
   "execution_count": 32,
   "id": "5412b321",
   "metadata": {
    "execution": {
     "iopub.execute_input": "2023-07-19T16:03:36.080844Z",
     "iopub.status.busy": "2023-07-19T16:03:36.080306Z",
     "iopub.status.idle": "2023-07-19T16:03:37.142447Z",
     "shell.execute_reply": "2023-07-19T16:03:37.141313Z"
    },
    "papermill": {
     "duration": 1.085744,
     "end_time": "2023-07-19T16:03:37.145039",
     "exception": false,
     "start_time": "2023-07-19T16:03:36.059295",
     "status": "completed"
    },
    "tags": []
   },
   "outputs": [
    {
     "data": {
      "image/png": "[encoded data removed]",
      "text/plain": [
       "<Figure size 640x480 with 1 Axes>"
      ]
     },
     "metadata": {},
     "output_type": "display_data"
    }
   ],
   "source": [
    "#what is avg price of each brand?\n",
    "sns.barplot(x=data['Company'],y=data['Price'])\n",
    "plt.xticks(rotation='vertical')\n",
    "plt.show()"
   ]
  },
  {
   "cell_type": "code",
   "execution_count": 33,
   "id": "0a87dd28",
   "metadata": {
    "execution": {
     "iopub.execute_input": "2023-07-19T16:03:37.187209Z",
     "iopub.status.busy": "2023-07-19T16:03:37.186079Z",
     "iopub.status.idle": "2023-07-19T16:03:37.656834Z",
     "shell.execute_reply": "2023-07-19T16:03:37.655709Z"
    },
    "papermill": {
     "duration": 0.494469,
     "end_time": "2023-07-19T16:03:37.659285",
     "exception": false,
     "start_time": "2023-07-19T16:03:37.164816",
     "status": "completed"
    },
    "tags": []
   },
   "outputs": [
    {
     "data": {
      "image/png": "[encoded data removed]",
      "text/plain": [
       "<Figure size 640x480 with 1 Axes>"
      ]
     },
     "metadata": {},
     "output_type": "display_data"
    }
   ],
   "source": [
    "sns.barplot(x=data['TypeName'],y=data['Price'])\n",
    "plt.xticks(rotation='vertical')\n",
    "plt.show()"
   ]
  },
  {
   "cell_type": "code",
   "execution_count": 34,
   "id": "7018972f",
   "metadata": {
    "execution": {
     "iopub.execute_input": "2023-07-19T16:03:37.702792Z",
     "iopub.status.busy": "2023-07-19T16:03:37.701276Z",
     "iopub.status.idle": "2023-07-19T16:03:38.049807Z",
     "shell.execute_reply": "2023-07-19T16:03:38.048944Z"
    },
    "papermill": {
     "duration": 0.37307,
     "end_time": "2023-07-19T16:03:38.052601",
     "exception": false,
     "start_time": "2023-07-19T16:03:37.679531",
     "status": "completed"
    },
    "tags": []
   },
   "outputs": [
    {
     "data": {
      "text/plain": [
       "<Axes: xlabel='Touchscreen', ylabel='Price'>"
      ]
     },
     "execution_count": 34,
     "metadata": {},
     "output_type": "execute_result"
    },
    {
     "data": {
      "image/png": "[encoded data removed]",
      "text/plain": [
       "<Figure size 640x480 with 1 Axes>"
      ]
     },
     "metadata": {},
     "output_type": "display_data"
    }
   ],
   "source": [
    "#how many laptops in data are touchscreen\n",
    "sns.countplot(data['Touchscreen'])\n",
    "#plot against price\n",
    "sns.barplot(x=data['Touchscreen'],y=data['Price'])"
   ]
  },
  {
   "cell_type": "code",
   "execution_count": 35,
   "id": "b8735966",
   "metadata": {
    "execution": {
     "iopub.execute_input": "2023-07-19T16:03:38.099477Z",
     "iopub.status.busy": "2023-07-19T16:03:38.098404Z",
     "iopub.status.idle": "2023-07-19T16:03:38.418572Z",
     "shell.execute_reply": "2023-07-19T16:03:38.417725Z"
    },
    "papermill": {
     "duration": 0.346637,
     "end_time": "2023-07-19T16:03:38.420845",
     "exception": false,
     "start_time": "2023-07-19T16:03:38.074208",
     "status": "completed"
    },
    "tags": []
   },
   "outputs": [
    {
     "data": {
      "text/plain": [
       "<Axes: xlabel='IPS', ylabel='Price'>"
      ]
     },
     "execution_count": 35,
     "metadata": {},
     "output_type": "execute_result"
    },
    {
     "data": {
      "image/png": "[encoded data removed]",
      "text/plain": [
       "<Figure size 640x480 with 1 Axes>"
      ]
     },
     "metadata": {},
     "output_type": "display_data"
    }
   ],
   "source": [
    "#extract IPS column\n",
    "sns.barplot(x=data['IPS'],y=data['Price'])"
   ]
  },
  {
   "cell_type": "code",
   "execution_count": 36,
   "id": "68decc58",
   "metadata": {
    "execution": {
     "iopub.execute_input": "2023-07-19T16:03:38.468357Z",
     "iopub.status.busy": "2023-07-19T16:03:38.467657Z",
     "iopub.status.idle": "2023-07-19T16:03:39.088476Z",
     "shell.execute_reply": "2023-07-19T16:03:39.087190Z"
    },
    "papermill": {
     "duration": 0.647398,
     "end_time": "2023-07-19T16:03:39.091210",
     "exception": false,
     "start_time": "2023-07-19T16:03:38.443812",
     "status": "completed"
    },
    "tags": []
   },
   "outputs": [
    {
     "data": {
      "image/png": "[encoded data removed]",
      "text/plain": [
       "<Figure size 640x480 with 1 Axes>"
      ]
     },
     "metadata": {},
     "output_type": "display_data"
    }
   ],
   "source": [
    "sns.barplot(x=data['Cpu_brand'],y=data['Price'])\n",
    "plt.xticks(rotation='vertical')\n",
    "plt.show()\n"
   ]
  },
  {
   "cell_type": "code",
   "execution_count": 37,
   "id": "0b789c6c",
   "metadata": {
    "execution": {
     "iopub.execute_input": "2023-07-19T16:03:39.140027Z",
     "iopub.status.busy": "2023-07-19T16:03:39.139521Z",
     "iopub.status.idle": "2023-07-19T16:03:39.731621Z",
     "shell.execute_reply": "2023-07-19T16:03:39.730252Z"
    },
    "papermill": {
     "duration": 0.620018,
     "end_time": "2023-07-19T16:03:39.734380",
     "exception": false,
     "start_time": "2023-07-19T16:03:39.114362",
     "status": "completed"
    },
    "tags": []
   },
   "outputs": [
    {
     "data": {
      "image/png": "[encoded data removed]",
      "text/plain": [
       "<Figure size 640x480 with 1 Axes>"
      ]
     },
     "metadata": {},
     "output_type": "display_data"
    }
   ],
   "source": [
    "sns.barplot(x=data['Ram'],y=data['Price'])\n",
    "plt.xticks(rotation='vertical')\n",
    "plt.show()"
   ]
  },
  {
   "cell_type": "code",
   "execution_count": 38,
   "id": "298e5fe7",
   "metadata": {
    "execution": {
     "iopub.execute_input": "2023-07-19T16:03:39.781668Z",
     "iopub.status.busy": "2023-07-19T16:03:39.781205Z",
     "iopub.status.idle": "2023-07-19T16:03:39.791230Z",
     "shell.execute_reply": "2023-07-19T16:03:39.789895Z"
    },
    "papermill": {
     "duration": 0.036874,
     "end_time": "2023-07-19T16:03:39.793836",
     "exception": false,
     "start_time": "2023-07-19T16:03:39.756962",
     "status": "completed"
    },
    "tags": []
   },
   "outputs": [
    {
     "data": {
      "text/plain": [
       "laptop_ID        int64\n",
       "Company         object\n",
       "Product         object\n",
       "TypeName        object\n",
       "Ram              int32\n",
       "Weight         float32\n",
       "Price          float64\n",
       "Touchscreen      int64\n",
       "IPS              int64\n",
       "PPI            float64\n",
       "Cpu_brand       object\n",
       "HDD              int64\n",
       "SSD              int64\n",
       "brand_Gpu       object\n",
       "os              object\n",
       "dtype: object"
      ]
     },
     "execution_count": 38,
     "metadata": {},
     "output_type": "execute_result"
    }
   ],
   "source": [
    "data.dtypes"
   ]
  },
  {
   "cell_type": "markdown",
   "id": "3db36ec9",
   "metadata": {
    "papermill": {
     "duration": 0.023837,
     "end_time": "2023-07-19T16:03:39.841827",
     "exception": false,
     "start_time": "2023-07-19T16:03:39.817990",
     "status": "completed"
    },
    "tags": []
   },
   "source": [
    "# encoding"
   ]
  },
  {
   "cell_type": "code",
   "execution_count": 39,
   "id": "f7826c32",
   "metadata": {
    "execution": {
     "iopub.execute_input": "2023-07-19T16:03:39.891049Z",
     "iopub.status.busy": "2023-07-19T16:03:39.889745Z",
     "iopub.status.idle": "2023-07-19T16:03:39.903735Z",
     "shell.execute_reply": "2023-07-19T16:03:39.902498Z"
    },
    "papermill": {
     "duration": 0.041495,
     "end_time": "2023-07-19T16:03:39.906870",
     "exception": false,
     "start_time": "2023-07-19T16:03:39.865375",
     "status": "completed"
    },
    "tags": []
   },
   "outputs": [],
   "source": [
    "from sklearn.preprocessing import LabelEncoder\n",
    "\n",
    "columns = ['Company', 'Product', 'TypeName', 'Cpu_brand', 'brand_Gpu', 'os']\n",
    "for col in columns:\n",
    "    label_encoder = LabelEncoder()\n",
    "    data[col] = label_encoder.fit_transform(data[col])\n",
    "\n"
   ]
  },
  {
   "cell_type": "markdown",
   "id": "6e4206c9",
   "metadata": {
    "papermill": {
     "duration": 0.02338,
     "end_time": "2023-07-19T16:03:39.954553",
     "exception": false,
     "start_time": "2023-07-19T16:03:39.931173",
     "status": "completed"
    },
    "tags": []
   },
   "source": [
    "# spliting data"
   ]
  },
  {
   "cell_type": "code",
   "execution_count": 40,
   "id": "21f735ac",
   "metadata": {
    "execution": {
     "iopub.execute_input": "2023-07-19T16:03:40.003085Z",
     "iopub.status.busy": "2023-07-19T16:03:40.002615Z",
     "iopub.status.idle": "2023-07-19T16:03:40.016980Z",
     "shell.execute_reply": "2023-07-19T16:03:40.015472Z"
    },
    "papermill": {
     "duration": 0.042623,
     "end_time": "2023-07-19T16:03:40.020361",
     "exception": false,
     "start_time": "2023-07-19T16:03:39.977738",
     "status": "completed"
    },
    "tags": []
   },
   "outputs": [],
   "source": [
    "x=data.drop(columns='Price')\n",
    "y=np.log(data['Price'])\n",
    "x_train,x_test,y_train,y_test=train_test_split(x,y,test_size=0.25,random_state=0)\n"
   ]
  },
  {
   "cell_type": "code",
   "execution_count": 41,
   "id": "5ec5eb78",
   "metadata": {
    "execution": {
     "iopub.execute_input": "2023-07-19T16:03:40.075787Z",
     "iopub.status.busy": "2023-07-19T16:03:40.075083Z",
     "iopub.status.idle": "2023-07-19T16:03:40.083874Z",
     "shell.execute_reply": "2023-07-19T16:03:40.081939Z"
    },
    "papermill": {
     "duration": 0.0413,
     "end_time": "2023-07-19T16:03:40.087802",
     "exception": false,
     "start_time": "2023-07-19T16:03:40.046502",
     "status": "completed"
    },
    "tags": []
   },
   "outputs": [
    {
     "name": "stdout",
     "output_type": "stream",
     "text": [
      "the shape of x_train :(976, 14)\n",
      "the shape of y_train :(976,)\n",
      "the shape of x_test :(326, 14)\n",
      "the shape of y_test :(326,)\n"
     ]
    }
   ],
   "source": [
    "print(f'the shape of x_train :{x_train.shape}')\n",
    "print(f'the shape of y_train :{y_train.shape}')\n",
    "print(f'the shape of x_test :{x_test.shape}')\n",
    "print(f'the shape of y_test :{y_test.shape}')"
   ]
  },
  {
   "cell_type": "markdown",
   "id": "a990ba6f",
   "metadata": {
    "papermill": {
     "duration": 0.023168,
     "end_time": "2023-07-19T16:03:40.135751",
     "exception": false,
     "start_time": "2023-07-19T16:03:40.112583",
     "status": "completed"
    },
    "tags": []
   },
   "source": [
    "# model"
   ]
  },
  {
   "cell_type": "code",
   "execution_count": 42,
   "id": "31128889",
   "metadata": {
    "execution": {
     "iopub.execute_input": "2023-07-19T16:03:40.190378Z",
     "iopub.status.busy": "2023-07-19T16:03:40.188762Z",
     "iopub.status.idle": "2023-07-19T16:03:40.631346Z",
     "shell.execute_reply": "2023-07-19T16:03:40.630258Z"
    },
    "papermill": {
     "duration": 0.472353,
     "end_time": "2023-07-19T16:03:40.634271",
     "exception": false,
     "start_time": "2023-07-19T16:03:40.161918",
     "status": "completed"
    },
    "tags": []
   },
   "outputs": [
    {
     "name": "stdout",
     "output_type": "stream",
     "text": [
      "R2 score 0.8766261495009774\n",
      "MAE :0.16031794301487828\n"
     ]
    }
   ],
   "source": [
    "\n",
    "model1= RandomForestRegressor(n_estimators=100, random_state=3, max_samples=0.5, max_features=0.75, max_depth=15)\n",
    "\n",
    "\n",
    "model1.fit(x_train,y_train)\n",
    "\n",
    "y_pred=model1.predict(x_test)\n",
    "\n",
    "print('R2 score',r2_score(y_test,y_pred))\n",
    "print(f'MAE :{mean_absolute_error(y_test,y_pred)}')      \n",
    "\n"
   ]
  },
  {
   "cell_type": "code",
   "execution_count": 43,
   "id": "259f464a",
   "metadata": {
    "execution": {
     "iopub.execute_input": "2023-07-19T16:03:40.685300Z",
     "iopub.status.busy": "2023-07-19T16:03:40.684742Z",
     "iopub.status.idle": "2023-07-19T16:03:40.705228Z",
     "shell.execute_reply": "2023-07-19T16:03:40.703743Z"
    },
    "papermill": {
     "duration": 0.050433,
     "end_time": "2023-07-19T16:03:40.707859",
     "exception": false,
     "start_time": "2023-07-19T16:03:40.657426",
     "status": "completed"
    },
    "tags": []
   },
   "outputs": [
    {
     "name": "stdout",
     "output_type": "stream",
     "text": [
      "R2 score: 0.7626113797077745\n",
      "MAE: 0.21774764116992762\n"
     ]
    }
   ],
   "source": [
    "from sklearn.tree import DecisionTreeRegressor\n",
    "model2 = DecisionTreeRegressor(random_state=42)\n",
    "model2.fit(x_train, y_train)\n",
    "\n",
    "y_pred = model2.predict(x_test)\n",
    "\n",
    "r2 = r2_score(y_test, y_pred)\n",
    "mae = mean_absolute_error(y_test, y_pred)\n",
    "\n",
    "print('R2 score:', r2)\n",
    "print('MAE:', mae)\n"
   ]
  }
 ],
 "metadata": {
  "kernelspec": {
   "display_name": "Python 3",
   "language": "python",
   "name": "python3"
  },
  "language_info": {
   "codemirror_mode": {
    "name": "ipython",
    "version": 3
   },
   "file_extension": ".py",
   "mimetype": "text/x-python",
   "name": "python",
   "nbconvert_exporter": "python",
   "pygments_lexer": "ipython3",
   "version": "3.10.10"
  },
  "papermill": {
   "default_parameters": {},
   "duration": 25.30851,
   "end_time": "2023-07-19T16:03:41.859551",
   "environment_variables": {},
   "exception": null,
   "input_path": "__notebook__.ipynb",
   "output_path": "__notebook__.ipynb",
   "parameters": {},
   "start_time": "2023-07-19T16:03:16.551041",
   "version": "2.4.0"
  }
 },
 "nbformat": 4,
 "nbformat_minor": 5
}
